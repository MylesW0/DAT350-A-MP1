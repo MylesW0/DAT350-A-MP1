{
 "cells": [
  {
   "cell_type": "code",
   "execution_count": 1,
   "metadata": {},
   "outputs": [],
   "source": [
    "import pandas as pd"
   ]
  },
  {
   "cell_type": "code",
   "execution_count": 2,
   "metadata": {},
   "outputs": [
    {
     "data": {
      "text/html": [
       "<div>\n",
       "<style scoped>\n",
       "    .dataframe tbody tr th:only-of-type {\n",
       "        vertical-align: middle;\n",
       "    }\n",
       "\n",
       "    .dataframe tbody tr th {\n",
       "        vertical-align: top;\n",
       "    }\n",
       "\n",
       "    .dataframe thead th {\n",
       "        text-align: right;\n",
       "    }\n",
       "</style>\n",
       "<table border=\"1\" class=\"dataframe\">\n",
       "  <thead>\n",
       "    <tr style=\"text-align: right;\">\n",
       "      <th></th>\n",
       "      <th>Timestamp</th>\n",
       "      <th>Which of the following social media platforms do you use? (Pick all that apply)</th>\n",
       "      <th>Which one of the following social media platforms do you use the most?</th>\n",
       "      <th>When do you most often use social media?</th>\n",
       "      <th>Why do you mostly use social media at the time of day chosen above?</th>\n",
       "      <th>Where do you most often use social media?</th>\n",
       "      <th>Why do you most often use social media at the location selected above?</th>\n",
       "      <th>Of the following, which is the biggest reason why you use social media?</th>\n",
       "      <th>What is your age group?</th>\n",
       "      <th>What is your gender?</th>\n",
       "      <th>Are you currently employed?</th>\n",
       "    </tr>\n",
       "  </thead>\n",
       "  <tbody>\n",
       "    <tr>\n",
       "      <th>0</th>\n",
       "      <td>1/23/2024 12:09:55</td>\n",
       "      <td>Instagram, Twitter / X, Snapchat</td>\n",
       "      <td>Instagram</td>\n",
       "      <td>Night</td>\n",
       "      <td>Availability (No other responsibilities at tha...</td>\n",
       "      <td>Home</td>\n",
       "      <td>More time for social media at location</td>\n",
       "      <td>Entertainment</td>\n",
       "      <td>21-25</td>\n",
       "      <td>Male</td>\n",
       "      <td>Yes</td>\n",
       "    </tr>\n",
       "    <tr>\n",
       "      <th>1</th>\n",
       "      <td>1/23/2024 12:22:04</td>\n",
       "      <td>Instagram, Facebook, TikTok, Snapchat</td>\n",
       "      <td>Snapchat</td>\n",
       "      <td>Night</td>\n",
       "      <td>Availability (No other responsibilities at tha...</td>\n",
       "      <td>Home</td>\n",
       "      <td>More time for social media at location</td>\n",
       "      <td>Entertainment</td>\n",
       "      <td>16-20</td>\n",
       "      <td>Male</td>\n",
       "      <td>No</td>\n",
       "    </tr>\n",
       "    <tr>\n",
       "      <th>2</th>\n",
       "      <td>1/23/2024 12:22:19</td>\n",
       "      <td>Instagram, Twitter / X, Facebook, TikTok, Snap...</td>\n",
       "      <td>Snapchat</td>\n",
       "      <td>Night</td>\n",
       "      <td>Availability (No other responsibilities at tha...</td>\n",
       "      <td>Home</td>\n",
       "      <td>More time for social media at location</td>\n",
       "      <td>Keeping up with family &amp; friends</td>\n",
       "      <td>21-25</td>\n",
       "      <td>Female</td>\n",
       "      <td>Yes</td>\n",
       "    </tr>\n",
       "    <tr>\n",
       "      <th>3</th>\n",
       "      <td>1/23/2024 12:23:51</td>\n",
       "      <td>Instagram, TikTok, Snapchat</td>\n",
       "      <td>TikTok</td>\n",
       "      <td>Night</td>\n",
       "      <td>Availability (No other responsibilities at tha...</td>\n",
       "      <td>Home</td>\n",
       "      <td>More time for social media at location</td>\n",
       "      <td>Entertainment</td>\n",
       "      <td>21-25</td>\n",
       "      <td>Male</td>\n",
       "      <td>Yes</td>\n",
       "    </tr>\n",
       "    <tr>\n",
       "      <th>4</th>\n",
       "      <td>1/23/2024 12:24:45</td>\n",
       "      <td>Instagram, TikTok, Snapchat</td>\n",
       "      <td>Instagram</td>\n",
       "      <td>Evening</td>\n",
       "      <td>Availability (No other responsibilities at tha...</td>\n",
       "      <td>Home</td>\n",
       "      <td>More time for social media at location</td>\n",
       "      <td>Keeping up with family &amp; friends</td>\n",
       "      <td>16-20</td>\n",
       "      <td>Female</td>\n",
       "      <td>Yes</td>\n",
       "    </tr>\n",
       "    <tr>\n",
       "      <th>5</th>\n",
       "      <td>1/23/2024 12:25:41</td>\n",
       "      <td>Instagram, Twitter / X, Facebook, TikTok, Snap...</td>\n",
       "      <td>Instagram</td>\n",
       "      <td>Evening</td>\n",
       "      <td>Availability (No other responsibilities at tha...</td>\n",
       "      <td>Home</td>\n",
       "      <td>More time for social media at location</td>\n",
       "      <td>Keeping up with family &amp; friends</td>\n",
       "      <td>21-25</td>\n",
       "      <td>Male</td>\n",
       "      <td>Yes</td>\n",
       "    </tr>\n",
       "    <tr>\n",
       "      <th>6</th>\n",
       "      <td>1/23/2024 12:31:12</td>\n",
       "      <td>Instagram, Twitter / X, Facebook, TikTok, Snap...</td>\n",
       "      <td>TikTok</td>\n",
       "      <td>Night</td>\n",
       "      <td>Availability (No other responsibilities at tha...</td>\n",
       "      <td>Home</td>\n",
       "      <td>More time for social media at location</td>\n",
       "      <td>Keeping up with family &amp; friends</td>\n",
       "      <td>46-50</td>\n",
       "      <td>Female</td>\n",
       "      <td>Yes</td>\n",
       "    </tr>\n",
       "    <tr>\n",
       "      <th>7</th>\n",
       "      <td>1/23/2024 14:23:38</td>\n",
       "      <td>Facebook, TikTok</td>\n",
       "      <td>TikTok</td>\n",
       "      <td>Afternoon</td>\n",
       "      <td>Complimenting with another action during that ...</td>\n",
       "      <td>Home</td>\n",
       "      <td>More time for social media at location</td>\n",
       "      <td>Entertainment</td>\n",
       "      <td>50+</td>\n",
       "      <td>Female</td>\n",
       "      <td>Yes</td>\n",
       "    </tr>\n",
       "    <tr>\n",
       "      <th>8</th>\n",
       "      <td>1/23/2024 15:58:17</td>\n",
       "      <td>Facebook, TikTok</td>\n",
       "      <td>Facebook</td>\n",
       "      <td>Night</td>\n",
       "      <td>Availability (No other responsibilities at tha...</td>\n",
       "      <td>Home</td>\n",
       "      <td>More time for social media at location</td>\n",
       "      <td>Keeping up with family &amp; friends</td>\n",
       "      <td>26-30</td>\n",
       "      <td>Male</td>\n",
       "      <td>Yes</td>\n",
       "    </tr>\n",
       "    <tr>\n",
       "      <th>9</th>\n",
       "      <td>1/23/2024 16:07:04</td>\n",
       "      <td>Facebook, TikTok</td>\n",
       "      <td>Facebook</td>\n",
       "      <td>Evening</td>\n",
       "      <td>Availability (No other responsibilities at tha...</td>\n",
       "      <td>Home</td>\n",
       "      <td>More time for social media at location</td>\n",
       "      <td>Entertainment</td>\n",
       "      <td>50+</td>\n",
       "      <td>Male</td>\n",
       "      <td>Yes</td>\n",
       "    </tr>\n",
       "    <tr>\n",
       "      <th>10</th>\n",
       "      <td>1/24/2024 12:49:05</td>\n",
       "      <td>Instagram, Facebook, TikTok, Snapchat</td>\n",
       "      <td>Instagram</td>\n",
       "      <td>Night</td>\n",
       "      <td>Availability (No other responsibilities at tha...</td>\n",
       "      <td>Home</td>\n",
       "      <td>More time for social media at location</td>\n",
       "      <td>Keeping up with family &amp; friends</td>\n",
       "      <td>31-35</td>\n",
       "      <td>Male</td>\n",
       "      <td>Yes</td>\n",
       "    </tr>\n",
       "  </tbody>\n",
       "</table>\n",
       "</div>"
      ],
      "text/plain": [
       "             Timestamp  \\\n",
       "0   1/23/2024 12:09:55   \n",
       "1   1/23/2024 12:22:04   \n",
       "2   1/23/2024 12:22:19   \n",
       "3   1/23/2024 12:23:51   \n",
       "4   1/23/2024 12:24:45   \n",
       "5   1/23/2024 12:25:41   \n",
       "6   1/23/2024 12:31:12   \n",
       "7   1/23/2024 14:23:38   \n",
       "8   1/23/2024 15:58:17   \n",
       "9   1/23/2024 16:07:04   \n",
       "10  1/24/2024 12:49:05   \n",
       "\n",
       "   Which of the following social media platforms do you use? (Pick all that apply)  \\\n",
       "0                    Instagram, Twitter / X, Snapchat                                \n",
       "1               Instagram, Facebook, TikTok, Snapchat                                \n",
       "2   Instagram, Twitter / X, Facebook, TikTok, Snap...                                \n",
       "3                         Instagram, TikTok, Snapchat                                \n",
       "4                         Instagram, TikTok, Snapchat                                \n",
       "5   Instagram, Twitter / X, Facebook, TikTok, Snap...                                \n",
       "6   Instagram, Twitter / X, Facebook, TikTok, Snap...                                \n",
       "7                                    Facebook, TikTok                                \n",
       "8                                    Facebook, TikTok                                \n",
       "9                                    Facebook, TikTok                                \n",
       "10              Instagram, Facebook, TikTok, Snapchat                                \n",
       "\n",
       "   Which one of the following social media platforms do you use the most?  \\\n",
       "0                                           Instagram                       \n",
       "1                                            Snapchat                       \n",
       "2                                            Snapchat                       \n",
       "3                                              TikTok                       \n",
       "4                                           Instagram                       \n",
       "5                                           Instagram                       \n",
       "6                                              TikTok                       \n",
       "7                                              TikTok                       \n",
       "8                                            Facebook                       \n",
       "9                                            Facebook                       \n",
       "10                                          Instagram                       \n",
       "\n",
       "   When do you most often use social media?  \\\n",
       "0                                     Night   \n",
       "1                                     Night   \n",
       "2                                     Night   \n",
       "3                                     Night   \n",
       "4                                   Evening   \n",
       "5                                   Evening   \n",
       "6                                     Night   \n",
       "7                                 Afternoon   \n",
       "8                                     Night   \n",
       "9                                   Evening   \n",
       "10                                    Night   \n",
       "\n",
       "   Why do you mostly use social media at the time of day chosen above?  \\\n",
       "0   Availability (No other responsibilities at tha...                    \n",
       "1   Availability (No other responsibilities at tha...                    \n",
       "2   Availability (No other responsibilities at tha...                    \n",
       "3   Availability (No other responsibilities at tha...                    \n",
       "4   Availability (No other responsibilities at tha...                    \n",
       "5   Availability (No other responsibilities at tha...                    \n",
       "6   Availability (No other responsibilities at tha...                    \n",
       "7   Complimenting with another action during that ...                    \n",
       "8   Availability (No other responsibilities at tha...                    \n",
       "9   Availability (No other responsibilities at tha...                    \n",
       "10  Availability (No other responsibilities at tha...                    \n",
       "\n",
       "   Where do you most often use social media?  \\\n",
       "0                                       Home   \n",
       "1                                       Home   \n",
       "2                                       Home   \n",
       "3                                       Home   \n",
       "4                                       Home   \n",
       "5                                       Home   \n",
       "6                                       Home   \n",
       "7                                       Home   \n",
       "8                                       Home   \n",
       "9                                       Home   \n",
       "10                                      Home   \n",
       "\n",
       "   Why do you most often use social media at the location selected above?  \\\n",
       "0              More time for social media at location                       \n",
       "1              More time for social media at location                       \n",
       "2              More time for social media at location                       \n",
       "3              More time for social media at location                       \n",
       "4              More time for social media at location                       \n",
       "5              More time for social media at location                       \n",
       "6              More time for social media at location                       \n",
       "7              More time for social media at location                       \n",
       "8              More time for social media at location                       \n",
       "9              More time for social media at location                       \n",
       "10             More time for social media at location                       \n",
       "\n",
       "   Of the following, which is the biggest reason why you use social media?   \\\n",
       "0                                       Entertainment                         \n",
       "1                                       Entertainment                         \n",
       "2                    Keeping up with family & friends                         \n",
       "3                                       Entertainment                         \n",
       "4                    Keeping up with family & friends                         \n",
       "5                    Keeping up with family & friends                         \n",
       "6                    Keeping up with family & friends                         \n",
       "7                                       Entertainment                         \n",
       "8                    Keeping up with family & friends                         \n",
       "9                                       Entertainment                         \n",
       "10                   Keeping up with family & friends                         \n",
       "\n",
       "   What is your age group? What is your gender? Are you currently employed?  \n",
       "0                    21-25                 Male                         Yes  \n",
       "1                    16-20                 Male                          No  \n",
       "2                    21-25               Female                         Yes  \n",
       "3                    21-25                 Male                         Yes  \n",
       "4                    16-20               Female                         Yes  \n",
       "5                    21-25                 Male                         Yes  \n",
       "6                    46-50               Female                         Yes  \n",
       "7                      50+               Female                         Yes  \n",
       "8                    26-30                 Male                         Yes  \n",
       "9                      50+                 Male                         Yes  \n",
       "10                   31-35                 Male                         Yes  "
      ]
     },
     "execution_count": 2,
     "metadata": {},
     "output_type": "execute_result"
    }
   ],
   "source": [
    "rawDF=pd.read_csv(\"social_media_survey.csv\")\n",
    "\n",
    "rawDF"
   ]
  },
  {
   "cell_type": "code",
   "execution_count": 9,
   "metadata": {},
   "outputs": [
    {
     "data": {
      "text/plain": [
       "'21-25'"
      ]
     },
     "execution_count": 9,
     "metadata": {},
     "output_type": "execute_result"
    }
   ],
   "source": [
    "most_common_age_group = rawDF['What is your age group?'].value_counts().idxmax()\n",
    "most_common_age_group\n"
   ]
  },
  {
   "cell_type": "code",
   "execution_count": 7,
   "metadata": {},
   "outputs": [
    {
     "data": {
      "text/plain": [
       "What is your age group?\n",
       "21-25    36.363636\n",
       "16-20    18.181818\n",
       "50+      18.181818\n",
       "46-50     9.090909\n",
       "26-30     9.090909\n",
       "31-35     9.090909\n",
       "Name: proportion, dtype: float64"
      ]
     },
     "execution_count": 7,
     "metadata": {},
     "output_type": "execute_result"
    }
   ],
   "source": [
    "age_group_percentage = rawDF['What is your age group?'].value_counts(normalize=True) * 100\n",
    "age_group_percentage"
   ]
  },
  {
   "cell_type": "markdown",
   "metadata": {},
   "source": [
    "ChatGPT used for last two entries and code used throughout the project:\n",
    "find the most common age group out of the survey\n",
    "\n",
    "1 / 2\n",
    "\n",
    "ChatGPT\n",
    "To find the most common age group in the survey, you can use the value_counts() method to count the occurrences of each unique value in the \"What is your age group?\" column. Here's how you can do it:\n",
    "\n",
    "python\n",
    "Copy code\n",
    "most_common_age_group = rawDF['What is your age group?'].value_counts().idxmax()\n",
    "print(most_common_age_group)\n",
    "This code will output the most common age group in the survey. The value_counts() method counts the occurrences of each unique value, and idxmax() returns the index (in this case, the age group) with the maximum count.\n",
    "\n",
    "Note: If the age group is represented as a range (e.g., '21-25'), the output will be the age group with the highest count, regardless of specific values within the range.\n",
    "\n",
    "User\n",
    "adjust the code for jupyter notebooks\n",
    "ChatGPT\n",
    "Certainly! In a Jupyter Notebook, you can run the code in a cell. Here's the adjusted code:\n",
    "\n",
    "python\n",
    "Copy code\n",
    "# Assuming rawDF is your DataFrame\n",
    "# Calculate the most common age group\n",
    "most_common_age_group = rawDF['What is your age group?'].value_counts().idxmax()\n",
    "most_common_age_group\n",
    "In a Jupyter Notebook, the last expression in a cell will be automatically displayed. So, running this cell will display the most common age group in the survey.\n",
    "\n",
    "User\n",
    "how do I find the percentage of entries for each age group\n",
    "ChatGPT\n",
    "You can find the percentage of entries for each age group by using the value_counts() method to count the occurrences of each unique age group and then dividing each count by the total number of entries in the DataFrame. Here's the code:\n",
    "\n",
    "python\n",
    "Copy code\n",
    "# Assuming rawDF is your DataFrame\n",
    "# Calculate the percentage of entries for each age group\n",
    "age_group_percentage = rawDF['What is your age group?'].value_counts(normalize=True) * 100\n",
    "age_group_percentage\n",
    "This code uses the value_counts() method with normalize=True to get the relative frequencies (proportions) of each unique value in the \"What is your age group?\" column. Multiplying by 100 gives the percentage values. The resulting Series will display the percentage of entries for each age group."
   ]
  },
  {
   "cell_type": "code",
   "execution_count": 10,
   "metadata": {},
   "outputs": [
    {
     "data": {
      "text/plain": [
       "What is your gender?\n",
       "Male      63.636364\n",
       "Female    36.363636\n",
       "Name: proportion, dtype: float64"
      ]
     },
     "execution_count": 10,
     "metadata": {},
     "output_type": "execute_result"
    }
   ],
   "source": [
    "gender_percentage = rawDF['What is your gender?'].value_counts(normalize=True) * 100\n",
    "gender_percentage"
   ]
  },
  {
   "cell_type": "code",
   "execution_count": 11,
   "metadata": {},
   "outputs": [
    {
     "data": {
      "text/plain": [
       "Are you currently employed?\n",
       "Yes    90.909091\n",
       "No      9.090909\n",
       "Name: proportion, dtype: float64"
      ]
     },
     "execution_count": 11,
     "metadata": {},
     "output_type": "execute_result"
    }
   ],
   "source": [
    "employment_percentage = rawDF['Are you currently employed?'].value_counts(normalize=True) * 100\n",
    "employment_percentage"
   ]
  },
  {
   "cell_type": "code",
   "execution_count": 14,
   "metadata": {},
   "outputs": [
    {
     "data": {
      "text/html": [
       "<div>\n",
       "<style scoped>\n",
       "    .dataframe tbody tr th:only-of-type {\n",
       "        vertical-align: middle;\n",
       "    }\n",
       "\n",
       "    .dataframe tbody tr th {\n",
       "        vertical-align: top;\n",
       "    }\n",
       "\n",
       "    .dataframe thead th {\n",
       "        text-align: right;\n",
       "    }\n",
       "</style>\n",
       "<table border=\"1\" class=\"dataframe\">\n",
       "  <thead>\n",
       "    <tr style=\"text-align: right;\">\n",
       "      <th></th>\n",
       "      <th>Platform</th>\n",
       "      <th>Percentage</th>\n",
       "    </tr>\n",
       "  </thead>\n",
       "  <tbody>\n",
       "    <tr>\n",
       "      <th>0</th>\n",
       "      <td>TikTok</td>\n",
       "      <td>26.315789</td>\n",
       "    </tr>\n",
       "    <tr>\n",
       "      <th>1</th>\n",
       "      <td>Instagram</td>\n",
       "      <td>21.052632</td>\n",
       "    </tr>\n",
       "    <tr>\n",
       "      <th>2</th>\n",
       "      <td>Snapchat</td>\n",
       "      <td>21.052632</td>\n",
       "    </tr>\n",
       "    <tr>\n",
       "      <th>3</th>\n",
       "      <td>Facebook</td>\n",
       "      <td>21.052632</td>\n",
       "    </tr>\n",
       "    <tr>\n",
       "      <th>4</th>\n",
       "      <td>Twitter / X</td>\n",
       "      <td>10.526316</td>\n",
       "    </tr>\n",
       "  </tbody>\n",
       "</table>\n",
       "</div>"
      ],
      "text/plain": [
       "      Platform  Percentage\n",
       "0       TikTok   26.315789\n",
       "1    Instagram   21.052632\n",
       "2     Snapchat   21.052632\n",
       "3     Facebook   21.052632\n",
       "4  Twitter / X   10.526316"
      ]
     },
     "execution_count": 14,
     "metadata": {},
     "output_type": "execute_result"
    }
   ],
   "source": [
    "# Assuming rawDF is your DataFrame\n",
    "# Split the entries in the social media platforms column\n",
    "platforms_split = rawDF['Which of the following social media platforms do you use? (Pick all that apply)'].str.split(', ')\n",
    "\n",
    "# Use explode to create a new row for each platform\n",
    "exploded_platforms = platforms_split.explode()\n",
    "\n",
    "# Calculate the percentage of entries for each social media platform\n",
    "platform_percentage = exploded_platforms.value_counts(normalize=True) * 100\n",
    "\n",
    "# Create a DataFrame with platform names and percentages\n",
    "platform_df = pd.DataFrame({'Platform': platform_percentage.index, 'Percentage': platform_percentage.values})\n",
    "platform_df"
   ]
  },
  {
   "cell_type": "markdown",
   "metadata": {},
   "source": [
    "ChatGPT used above and code used throughout:\n",
    "platform_percentage = rawDF['Which of the following social media platforms do you use? (Pick all that apply)'].value_counts(normalize=True) * 100\n",
    "platform_percentage  // I want this to show the individual percentages of each platform\n",
    "ChatGPT\n",
    "If you want to display the individual percentages for each social media platform, you can use the following code:\n",
    "\n",
    "python\n",
    "Copy code\n",
    "# Assuming rawDF is your DataFrame\n",
    "# Calculate the percentage of entries for each social media platform\n",
    "platform_percentage = rawDF['Which of the following social media platforms do you use? (Pick all that apply)'].value_counts(normalize=True) * 100\n",
    "platform_percentage\n",
    "This code will output a Series where each platform is associated with its respective percentage of entries in the \"Which of the following social media platforms do you use?\" column. Each row in the result represents a social media platform, and its corresponding value is the percentage of entries for that platform.\n",
    "\n",
    "User\n",
    "that returns this output, but I want it to say Twitter then its response amount, and so on and so forth Which of the following social media platforms do you use? (Pick all that apply)\n",
    "Instagram, Twitter / X, Facebook, TikTok, Snapchat    27.272727\n",
    "Facebook, TikTok                                      27.272727\n",
    "Instagram, Facebook, TikTok, Snapchat                 18.181818\n",
    "Instagram, TikTok, Snapchat                           18.181818\n",
    "Instagram, Twitter / X, Snapchat                       9.090909\n",
    "Name: proportion, dtype: float64\n",
    "ChatGPT\n",
    "If you want to display the platform names along with their corresponding percentages, you can create a DataFrame for better readability. Here's how you can modify the code:\n",
    "\n",
    "python\n",
    "Copy code\n",
    "# Assuming rawDF is your DataFrame\n",
    "# Calculate the percentage of entries for each social media platform\n",
    "platform_counts = rawDF['Which of the following social media platforms do you use? (Pick all that apply)'].value_counts()\n",
    "platform_percentage = rawDF['Which of the following social media platforms do you use? (Pick all that apply)'].value_counts(normalize=True) * 100\n",
    "\n",
    "# Create a DataFrame with platform names and percentages\n",
    "platform_df = pd.DataFrame({'Platform': platform_percentage.index, 'Percentage': platform_percentage.values, 'Count': platform_counts.values})\n",
    "platform_df = platform_df[['Platform', 'Count', 'Percentage']]\n",
    "\n",
    "platform_df\n",
    "This code creates a DataFrame (platform_df) with columns for the platform names, their counts, and their percentages. The DataFrame is then displayed with the information you requested.\n",
    "\n",
    "User\n",
    "it still returns multiple social medias \n",
    "ChatGPT\n",
    "If you want to separate the multiple social media entries and show individual percentages for each platform, you can split the entries in the \"Which of the following social media platforms do you use? (Pick all that apply)\" column and then use explode to create a new row for each platform. Here's the modified code:\n",
    "\n",
    "python\n",
    "Copy code\n",
    "# Assuming rawDF is your DataFrame\n",
    "# Split the entries in the social media platforms column\n",
    "platforms_split = rawDF['Which of the following social media platforms do you use? (Pick all that apply)'].str.split(', ')\n",
    "\n",
    "# Use explode to create a new row for each platform\n",
    "exploded_platforms = platforms_split.explode()\n",
    "\n",
    "# Calculate the percentage of entries for each social media platform\n",
    "platform_percentage = exploded_platforms.value_counts(normalize=True) * 100\n",
    "\n",
    "# Create a DataFrame with platform names and percentages\n",
    "platform_df = pd.DataFrame({'Platform': platform_percentage.index, 'Percentage': platform_percentage.values})\n",
    "platform_df\n",
    "This code first splits the entries in the \"Which of the following social media platforms do you use?\" column using , as the separator. Then, it uses the explode function to create a new row for each platform. Finally, it calculates the percentage of entries for each social media platform and creates a DataFrame (platform_df) with the platform names and percentages."
   ]
  },
  {
   "cell_type": "code",
   "execution_count": 15,
   "metadata": {},
   "outputs": [
    {
     "data": {
      "text/plain": [
       "Which one of the following social media platforms do you use the most?\n",
       "Instagram    36.363636\n",
       "TikTok       27.272727\n",
       "Snapchat     18.181818\n",
       "Facebook     18.181818\n",
       "Name: proportion, dtype: float64"
      ]
     },
     "execution_count": 15,
     "metadata": {},
     "output_type": "execute_result"
    }
   ],
   "source": [
    "favplatform_percentage = rawDF['Which one of the following social media platforms do you use the most?'].value_counts(normalize=True) * 100\n",
    "favplatform_percentage"
   ]
  },
  {
   "cell_type": "code",
   "execution_count": 16,
   "metadata": {},
   "outputs": [
    {
     "data": {
      "text/plain": [
       "When do you most often use social media?\n",
       "Night        63.636364\n",
       "Evening      27.272727\n",
       "Afternoon     9.090909\n",
       "Name: proportion, dtype: float64"
      ]
     },
     "execution_count": 16,
     "metadata": {},
     "output_type": "execute_result"
    }
   ],
   "source": [
    "when_percentage = rawDF['When do you most often use social media?'].value_counts(normalize=True) * 100\n",
    "when_percentage"
   ]
  },
  {
   "cell_type": "code",
   "execution_count": 17,
   "metadata": {},
   "outputs": [
    {
     "data": {
      "text/plain": [
       "Where do you most often use social media?\n",
       "Home    100.0\n",
       "Name: proportion, dtype: float64"
      ]
     },
     "execution_count": 17,
     "metadata": {},
     "output_type": "execute_result"
    }
   ],
   "source": [
    "where_percentage = rawDF['Where do you most often use social media?'].value_counts(normalize=True) * 100\n",
    "where_percentage"
   ]
  },
  {
   "cell_type": "code",
   "execution_count": 18,
   "metadata": {},
   "outputs": [
    {
     "data": {
      "text/plain": [
       "Why do you most often use social media at the location selected above?\n",
       "More time for social media at location    100.0\n",
       "Name: proportion, dtype: float64"
      ]
     },
     "execution_count": 18,
     "metadata": {},
     "output_type": "execute_result"
    }
   ],
   "source": [
    "whyloc_percentage = rawDF['Why do you most often use social media at the location selected above?'].value_counts(normalize=True) * 100\n",
    "whyloc_percentage"
   ]
  },
  {
   "cell_type": "code",
   "execution_count": 19,
   "metadata": {},
   "outputs": [
    {
     "data": {
      "text/plain": [
       "Why do you mostly use social media at the time of day chosen above?\n",
       "Availability (No other responsibilities at that time)                                          90.909091\n",
       "Complimenting with another action during that time (Eating, Mundane Tasks, Work days, etc.)     9.090909\n",
       "Name: proportion, dtype: float64"
      ]
     },
     "execution_count": 19,
     "metadata": {},
     "output_type": "execute_result"
    }
   ],
   "source": [
    "whytime_percentage = rawDF['Why do you mostly use social media at the time of day chosen above?'].value_counts(normalize=True) * 100\n",
    "whytime_percentage"
   ]
  },
  {
   "cell_type": "code",
   "execution_count": 22,
   "metadata": {},
   "outputs": [
    {
     "data": {
      "text/plain": [
       "Of the following, which is the biggest reason why you use social media? \n",
       "Keeping up with family & friends    54.545455\n",
       "Entertainment                       45.454545\n",
       "Name: proportion, dtype: float64"
      ]
     },
     "execution_count": 22,
     "metadata": {},
     "output_type": "execute_result"
    }
   ],
   "source": [
    "reason_percentage = rawDF['Of the following, which is the biggest reason why you use social media? '].value_counts(normalize=True) * 100\n",
    "reason_percentage"
   ]
  },
  {
   "cell_type": "code",
   "execution_count": null,
   "metadata": {},
   "outputs": [],
   "source": []
  }
 ],
 "metadata": {
  "kernelspec": {
   "display_name": "base",
   "language": "python",
   "name": "python3"
  },
  "language_info": {
   "codemirror_mode": {
    "name": "ipython",
    "version": 3
   },
   "file_extension": ".py",
   "mimetype": "text/x-python",
   "name": "python",
   "nbconvert_exporter": "python",
   "pygments_lexer": "ipython3",
   "version": "3.11.5"
  }
 },
 "nbformat": 4,
 "nbformat_minor": 2
}
